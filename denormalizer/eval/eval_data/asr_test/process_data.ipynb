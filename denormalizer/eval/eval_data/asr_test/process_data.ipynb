{
 "cells": [
  {
   "cell_type": "code",
   "execution_count": 2,
   "metadata": {},
   "outputs": [],
   "source": [
    "import pandas as pd"
   ]
  },
  {
   "cell_type": "code",
   "execution_count": 3,
   "metadata": {},
   "outputs": [],
   "source": [
    "df = pd.read_csv('./itn_asr_eval.csv')"
   ]
  },
  {
   "cell_type": "code",
   "execution_count": 4,
   "metadata": {},
   "outputs": [],
   "source": [
    "with open(\"./asr_eval_input.txt\", \"w\") as file:\n",
    "    for line in df[\"Spoken text\"].tolist():\n",
    "        file.write(line+\"\\n\")"
   ]
  },
  {
   "cell_type": "code",
   "execution_count": 5,
   "metadata": {},
   "outputs": [
    {
     "data": {
      "text/plain": [
       "37"
      ]
     },
     "execution_count": 5,
     "metadata": {},
     "output_type": "execute_result"
    }
   ],
   "source": [
    "len(df)"
   ]
  },
  {
   "cell_type": "code",
   "execution_count": 6,
   "metadata": {},
   "outputs": [],
   "source": [
    "with open(\"./asr_eval_target.txt\", \"w\") as file:\n",
    "    for line in df[\"Written text\"].tolist():\n",
    "        file.write(line+\"\\n\")"
   ]
  },
  {
   "cell_type": "code",
   "execution_count": 7,
   "metadata": {},
   "outputs": [],
   "source": [
    "with open(\"./final_test.output\", \"r\") as file:\n",
    "    output_list = []\n",
    "    for line in file.readlines():\n",
    "        output_list.append(line.split(\"\\t\")[0])\n",
    "    \n",
    "with open(\"./output.txt\", \"w\") as file:\n",
    "    for line in output_list:\n",
    "        file.write(line+\"\\n\")"
   ]
  },
  {
   "cell_type": "code",
   "execution_count": 8,
   "metadata": {},
   "outputs": [
    {
     "name": "stdout",
     "output_type": "stream",
     "text": [
      "answer: \t gilstead road bedok north and one north link\n",
      "model output: \t gilstead road bedok north and 1 north link\n",
      "\n",
      "answer: \t jurong island terminal miller street and aljunied mrt station\n",
      "model output: \t jurong island terminal miller street & aljunied mrt station\n",
      "\n",
      "answer: \t geylang lorong 8 bukit ho swee link and jalan basong\n",
      "model output: \t geylang lorong 8, bukit ho swee link and jalan basong\n",
      "\n",
      "answer: \t 250000 mm yes\n",
      "model output: \t  250,000 mm yes\n",
      "\n",
      "answer: \t oh oh so would you like to settle the er HK$ outstanding balance with your US$\n",
      "model output: \t oh oh so would you like to settle the er hong kong dollar outstanding balance with your us $\n",
      "\n",
      "answer: \t remit HK$ 3500\n",
      "model output: \t remit hong hkd 3500 \n",
      "\n",
      "answer: \t £550 okay against US$\n",
      "model output: \t five hundred and fifty pound okay against usd\n",
      "\n",
      "answer: \t um hum the second one is uh AUD 38195 uh\n",
      "model output: \t um hum the second one is uh australian $ 38195 uh\n",
      "\n",
      "answer: \t 860000 8 6 6 60000\n",
      "model output: \t  868 u. s. 60 6 60,000 \n",
      "\n",
      "answer: \t this is for service fees 17th of April to 16th of July\n",
      "model output: \t this is for service fees 17 of april to 16 of july\n",
      "\n",
      "answer: \t all same amount 360000 yes i just i just pick that straight out\n",
      "model output: \t all same amount 360,000 yes i just i just pick that straight out\n",
      "\n",
      "answer: \t so we will remit US$ 203000\n",
      "model output: \t so we will remit us dollars 200 and 3,000 \n",
      "\n",
      "answer: \t 0.93 usd so so we’ll do that uh i mean the buy back the euros\n",
      "model output: \t . 93 usd so so we'll do that uh i mean the buy back the euros\n",
      "\n",
      "answer: \t so we'll be doing this for value tomorrow so the indicative spot rate right now is 1. uh 3\n",
      "model output: \t so we'll be doing this for value tomorrow so the indicative spot rate right now is 1 point uh 3\n",
      "\n",
      "answer: \t okay good yeap and the second would be the CAD er CAD 10000\n",
      "model output: \t okay good yeap and the second would be the canadian dollars er canadian dollars 10,000 \n",
      "\n",
      "answer: \t yeah you would like to do it 1 week or 2 week\n",
      "model output: \t yeah you would like to do it one week or two week\n",
      "\n",
      "answer: \t ter the iban for this transfer is fr 77300770489439\n",
      "model output: \t ter the iban for this transfer is fr 763 0 0 7 7 0 489439 \n",
      "\n",
      "answer: \t you need to remit US$ 15000 to bank united new york branch the beneficiary\n",
      "model output: \t you need to remit 15,000 us dollars to bank united new york branch the beneficiary\n",
      "\n",
      "answer: \t ya 800350\n",
      "model output: \t ya 800300 and 50\n",
      "\n",
      "19\n"
     ]
    }
   ],
   "source": [
    "with open(\"./asr_eval_target.txt\", \"r\") as file:\n",
    "    target_list = file.readlines()\n",
    "with open(\"./output.txt\", \"r\") as file:\n",
    "    output_list = file.readlines()\n",
    "count = 0\n",
    "for target, output in zip(target_list, output_list):\n",
    "    if target.replace(\" \", \"\")!=output.replace(\" \", \"\"):\n",
    "        print(\"answer: \\t\", target.replace(\"\\n\", \"\"))\n",
    "        print(\"model output: \\t\", output.replace(\"\\n\", \"\"))\n",
    "        print()\n",
    "        count += 1\n",
    "print(count)"
   ]
  },
  {
   "cell_type": "code",
   "execution_count": null,
   "metadata": {},
   "outputs": [],
   "source": []
  }
 ],
 "metadata": {
  "kernelspec": {
   "display_name": "base",
   "language": "python",
   "name": "python3"
  },
  "language_info": {
   "codemirror_mode": {
    "name": "ipython",
    "version": 3
   },
   "file_extension": ".py",
   "mimetype": "text/x-python",
   "name": "python",
   "nbconvert_exporter": "python",
   "pygments_lexer": "ipython3",
   "version": "3.9.13"
  },
  "orig_nbformat": 4
 },
 "nbformat": 4,
 "nbformat_minor": 2
}
