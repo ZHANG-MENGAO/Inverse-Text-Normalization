{
 "cells": [
  {
   "cell_type": "code",
   "execution_count": 1,
   "metadata": {},
   "outputs": [],
   "source": [
    "## sample a small propotion for testing"
   ]
  },
  {
   "cell_type": "code",
   "execution_count": 6,
   "metadata": {},
   "outputs": [],
   "source": [
    "limit = 1000\n",
    "with open(\"output\", \"r\") as file, open(\"output_test\", \"w\") as file2:\n",
    "    for i, line in enumerate(file):\n",
    "        if i>=limit:\n",
    "            break\n",
    "        else:\n",
    "            temp = \"\"\n",
    "            for i, char in enumerate(line):\n",
    "                if char in \",.'\" and i>0 and line[i-1]!=\" \":\n",
    "                    temp += \" \" + char\n",
    "                else:\n",
    "                    temp += char\n",
    "            line = temp\n",
    "            file2.write(line)"
   ]
  },
  {
   "cell_type": "code",
   "execution_count": 5,
   "metadata": {},
   "outputs": [],
   "source": [
    "with open(\"/home/mazhang/inverse-text-normailzation/GTN_ini/test_written.txt\", \"r\") as file, open(\"label_test\", \"w\") as file2:\n",
    "    for i, line in enumerate(file):\n",
    "        if i>=limit:\n",
    "            break\n",
    "        else:\n",
    "            file2.write(line)"
   ]
  }
 ],
 "metadata": {
  "kernelspec": {
   "display_name": "base",
   "language": "python",
   "name": "python3"
  },
  "language_info": {
   "codemirror_mode": {
    "name": "ipython",
    "version": 3
   },
   "file_extension": ".py",
   "mimetype": "text/x-python",
   "name": "python",
   "nbconvert_exporter": "python",
   "pygments_lexer": "ipython3",
   "version": "3.9.13"
  }
 },
 "nbformat": 4,
 "nbformat_minor": 2
}
