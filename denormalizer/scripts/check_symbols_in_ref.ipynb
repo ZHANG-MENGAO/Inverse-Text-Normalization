{
 "cells": [
  {
   "cell_type": "code",
   "execution_count": 6,
   "metadata": {},
   "outputs": [],
   "source": [
    "def check_alphanumeric(input_string):\n",
    "    symbols = [\" \", \",\", '\\n', \"(\", \")\", \"&\", \"_\", \"-\", \":\", \"/\", \"%\", \"$\", \"'\", \"#\", \"£\", \"~\", \"!\", \";\", '\"', \"?\", \"€\", \"¥\", \"=\"]\n",
    "    #\" \", \",\", \".\", '\\n', \"(\", \")\", \"-\", \"&\", \"_\", \":\", \"/\", \"%\", \"$\", \"'\", \"#\", \"£\", \"~\", \"!\", \";\", '\"', \"€\", \"¥\", \"?\", \"=\"\n",
    "    for char in input_string:\n",
    "        if not char.isalnum() and all([char!=x for x in symbols]):\n",
    "            return True\n",
    "    return False"
   ]
  },
  {
   "cell_type": "code",
   "execution_count": 7,
   "metadata": {},
   "outputs": [],
   "source": [
    "with open(\"/home/mazhang/txtDenormalization/denormalizer/GTN_1000.txt\", \"r\") as file:\n",
    "    lines = file.readlines()\n",
    "    out = []\n",
    "    for line in lines:\n",
    "        check = line\n",
    "        if check_alphanumeric(check):\n",
    "            out.append(check)\n",
    "\n",
    "with open(\"test1000_denor_out.txt\", \"w\") as file:\n",
    "    for line in out:\n",
    "        file.write(line)"
   ]
  },
  {
   "cell_type": "code",
   "execution_count": 8,
   "metadata": {},
   "outputs": [],
   "source": [
    "with open(\"/home/mazhang/txtDenormalization/denormalizer/GTN_test.txt\", \"r\") as file:\n",
    "    lines = file.readlines()\n",
    "    out = []\n",
    "    for line in lines:\n",
    "        check = line\n",
    "        if check_alphanumeric(check):\n",
    "            out.append(check)\n",
    "\n",
    "with open(\"test_denor_out.txt\", \"w\") as file:\n",
    "    for line in out:\n",
    "        file.write(line)"
   ]
  },
  {
   "cell_type": "code",
   "execution_count": 9,
   "metadata": {},
   "outputs": [
    {
     "name": "stdout",
     "output_type": "stream",
     "text": [
      "laclede township is one of twenty townships in fayette county illinois usa.\n",
      "the brothers of the congregation use the postnominal initials of o.s.f.\n",
      "the average household size was 2.2 and the average family size was 3.2\n",
      "el mundo deportivo in spanish el mundo deportivo s.a.\n",
      "tug runs ashore near newcastle the sydney morning herald saturday 28 july 1945 p .4\n",
      "the washington post washington d.c.\n",
      "oxford university press usa.\n",
      "this erlang license is a derivative work of the mozilla public license version 1.0\n",
      "limbu script was added to the unicode standard in april 2003 with the release of version 4.0\n",
      "eden township is a township in marshall county iowa usa.\n",
      "loud speaker ray smith l.\n",
      "blann a. d. woywodt a. bertolini f. bull t. m. buyon j. p. clancy r. m.\n",
      "he left red star waasland on 17 june 2009 to sign for belgian pro league club k. sint truidense v.v.\n",
      "in 2008 palatine high school had an average composite act score of 22.1\n"
     ]
    }
   ],
   "source": [
    "with open(\"/home/mazhang/inverse-text-normailzation/data_and_result/GTN_test/test.labeled\", \"r\") as file:\n",
    "    lines = file.readlines()\n",
    "    out = []\n",
    "    for line in lines:\n",
    "        check = line.split('\\t')[1]\n",
    "        if check_alphanumeric(check):\n",
    "            if check[-1]==\".\" or check[-2]==\".\":\n",
    "                print(check)\n",
    "            out.append(check)\n",
    "\n",
    "with open(\"test_ref_out.txt\", \"w\") as file:\n",
    "    for line in out:\n",
    "        file.write(line)\n",
    "        file.write(\"\\n\")"
   ]
  },
  {
   "cell_type": "code",
   "execution_count": 10,
   "metadata": {},
   "outputs": [
    {
     "name": "stdout",
     "output_type": "stream",
     "text": [
      "in may she began a return voyage to the united states departing okinawa on 15 may.\n",
      "data lifeguard tools for windows version 11.2\n",
      "books of the times new york times december 11, 1986 lehmann haupt christopher accessed 26 sept.\n",
      "marcus junius m. f brutus the tyrannicide praetor urbanus in 44 bc.\n",
      "laporte cpas and business advisors is an accounting and business advisory firm based in new orleans usa.\n",
      "matmuja performed in the first semi final on 6 may.\n",
      "davies sees an ndp surge in b.c.\n",
      "ho scale oval racing is very popular in the northeastern usa.\n",
      "western ganga was an important ruling dynasty of ancient karnataka in india which lasted from about 350 to 1000 ad.\n",
      "journal of integer sequences 7 3 04 .3 .7\n",
      "dos passos used the same idea in the camera eye sequences in usa.\n",
      "microsoft on the other hand did and soon introduced word 4.0\n",
      "she departed aitape on 28 december bound for northern luzon in company with a unit of tg 78.1\n",
      "dr robert m. carter r.i.p.\n",
      "mr t. a. l. davy m.l.a.\n",
      "paticca samuppada vibhanga sutta analysis of dependent co arising sn 12.2\n",
      "adding his strong defense gives him an overall wins above replacement of 15.9\n",
      "it has a mohs hardness of 5.5 to 6 and a specific gravity of 3.8 to 4.1\n",
      "since 2001 the category has had the abbreviation lc following the iucn 2001 categories & criteria version 3.1\n",
      "8.5 pausanias says 6 stadia graeciae desceriptio 4.31 .1\n",
      "jason miller appeared on g 4 s american ninja warrior making it through the qualifying round with a time of 2:55.0\n",
      "messenger 1 2 141-149 doi http://dx.doi.org/10.1166/msr.2012.1012de flora a. bruzzone s. guida l. sturla l. magnone m. fresia c.\n",
      "in this octahedral anion the si f bond distances are 1.71 a.\n",
      "american speech 74.3\n",
      "church history of brittany 24.7\n",
      "american astrology magazine september 1937 bailey 1951 p .1\n",
      "the station plays an active rock format and is branded as cfai 101.1 105.1\n",
      "he was awarded the order of the patriotic war 2nd class on 23 may.\n",
      "series 2 episode 1 15 may 1968 2.2\n",
      "national plant data team greensboro north carolina 27401 -4901 usa.\n",
      "the six co ligands are terminal and the mo mo bond distance is 3.2325 a.\n",
      "maserati indy 4.9\n",
      "wifi roaming starts to take flight with hotspot 2.0\n",
      "d'andrea 2006 p .6\n",
      "the collections framework was designed and developed primarily by joshua bloch and was introduced in jdk 1.2\n",
      "concussion management policy 123.1\n",
      "disease strategy contagious equine metritis version 1.0\n",
      "vol 31 nr .1\n",
      "the station broadcasts a soft gold leaning adult contemporary format under the brand name jewel 88.5\n",
      "the station broadcasts a country music format branded as hot country 103.5\n",
      "a gene map of the best's vitelliform macular dystrophy region in chromosome 11 q 12 q 13 .1\n",
      "as of 24 august 2015 the version is mathematica 10.2\n",
      "yardbarker welcome to sports 2.0\n",
      "2.2 and 4.1\n",
      "official command & conquer faq v 3 .0\n",
      "klein axel irish classical recordings a discography of irish art music 2001 discographies issn 0192-334 x greenwood press westport ct usa.\n",
      "jaclyn ward fireball media group http://www.fireballmedia .ie.\n",
      "vogons joystick emulationthe sierra help pages vdms launchpadwindows driver development kit application based interceptscli 2 nop faqis the latest version of vdm sound 2 .1.0\n",
      "the spacecraft docked with the aft port of the zvezda module at 05:10 gmt on 15 may.\n",
      "the competition was held on monday, february 18, 1952 at 5 p.m.\n",
      "thus 192.168.100.0/24 was often written as 192.168.100.0 255.255.255.0\n",
      "virden township n ½ t 12 n r 6 w is located in macoupin county illinois usa.\n",
      "all bright lights were extinguished during the night only blue lighting was used after 10:00 p.m.\n",
      "he closed 1:53 in 10,000 m to finish runner up at usa.\n",
      "he won the golden west invitational high school meet two mile race in 1966 in a time of 8:55.4\n",
      "november 15, 2005 voting ends at 5 p.m.\n",
      "churchesvch staffordshire volume 5:16 s .2\n",
      "at 2010 in moscow she reached her personal 5000 m walking record 23:29.6\n",
      "driving time is between 8:00 and 17:00 from 8 a.m. to 5 p.m.\n",
      "with the receipt of a flash white at 13:43 the oilers resumed refueling tg 77.2\n",
      "the team dominated the first round defeating the dutch team easily with a time of 3:43.2\n",
      "in 1994/5 he was distinguished visiting artist to california state university long beach usa.\n"
     ]
    }
   ],
   "source": [
    "with open(\"/home/mazhang/inverse-text-normailzation/data_and_result/GTN_test/test1000.labeled\", \"r\") as file:\n",
    "    lines = file.readlines()\n",
    "    out = []\n",
    "    for line in lines:\n",
    "        check = line.split('\\t')[1]\n",
    "        if check_alphanumeric(check):\n",
    "            if check[-1]==\".\" or check[-2]==\".\":\n",
    "                print(check)\n",
    "            out.append(check)\n",
    "\n",
    "with open(\"test1000_ref_out.txt\", \"w\") as file:\n",
    "    for line in out:\n",
    "        file.write(line)\n",
    "        file.write(\"\\n\")"
   ]
  }
 ],
 "metadata": {
  "kernelspec": {
   "display_name": "base",
   "language": "python",
   "name": "python3"
  },
  "language_info": {
   "codemirror_mode": {
    "name": "ipython",
    "version": 3
   },
   "file_extension": ".py",
   "mimetype": "text/x-python",
   "name": "python",
   "nbconvert_exporter": "python",
   "pygments_lexer": "ipython3",
   "version": "3.9.13"
  }
 },
 "nbformat": 4,
 "nbformat_minor": 2
}
