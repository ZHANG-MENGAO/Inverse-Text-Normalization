{
 "cells": [
  {
   "cell_type": "code",
   "execution_count": 1,
   "metadata": {},
   "outputs": [],
   "source": [
    "import pandas as pd\n",
    "import os\n",
    "import json"
   ]
  },
  {
   "cell_type": "code",
   "execution_count": 2,
   "metadata": {},
   "outputs": [
    {
     "name": "stdout",
     "output_type": "stream",
     "text": [
      "reading:  libriheavy_ITN_small.jsonl\n",
      "reading:  libriheavy_ITN_medium.jsonl\n",
      "reading:  libriheavy_ITN_large.jsonl\n",
      "reading:  libriheavy_ITN_dev.jsonl\n",
      "reading:  libriheavy_ITN_test_clean.jsonl\n"
     ]
    }
   ],
   "source": [
    "train_split = [\"small\", \"medium\", \"large\"]\n",
    "val_split = [\"dev\"]\n",
    "test_split = [\"test_clean\"]\n",
    "written = []\n",
    "spoken = []\n",
    "for split in train_split:\n",
    "    file_path = f\"libriheavy_ITN_{split}.jsonl\"\n",
    "    print(\"reading: \", file_path)\n",
    "    with open(file_path, \"r\") as file:\n",
    "        lines = file.readlines()\n",
    "\n",
    "    for line in lines:\n",
    "        temp = json.loads(line.strip())\n",
    "        written.append(temp[\"BookText\"])\n",
    "        spoken.append(temp[\"ASRTranscript\"].lower())\n",
    "    \n",
    "with open(\"./cleaned_data/ITN/train.raw.source_medium\", \"w\") as source_file, open(\"./cleaned_data/ITN/train.raw.target_medium\", \"w\") as target_file:\n",
    "    for instance in spoken:\n",
    "        source_file.write(instance + \"\\n\")\n",
    "    for instance in written:\n",
    "        target_file.write(instance + \"\\n\")\n",
    "\n",
    "written = []\n",
    "spoken = []\n",
    "for split in val_split:\n",
    "    file_path = f\"libriheavy_ITN_{split}.jsonl\"\n",
    "    print(\"reading: \", file_path)\n",
    "    with open(file_path, \"r\") as file:\n",
    "        lines = file.readlines()\n",
    "\n",
    "    for line in lines:\n",
    "        temp = json.loads(line.strip())\n",
    "        written.append(temp[\"BookText\"])\n",
    "        spoken.append(temp[\"ASRTranscript\"].lower())\n",
    "    \n",
    "with open(\"./cleaned_data/ITN/val.raw.source_medium\", \"w\") as source_file, open(\"./cleaned_data/ITN/val.raw.target_medium\", \"w\") as target_file:\n",
    "    for instance in spoken:\n",
    "        source_file.write(instance + \"\\n\")\n",
    "    for instance in written:\n",
    "        target_file.write(instance + \"\\n\")\n",
    "\n",
    "written = []\n",
    "spoken = []\n",
    "for split in test_split:\n",
    "    file_path = f\"libriheavy_ITN_{split}.jsonl\"\n",
    "    print(\"reading: \", file_path)\n",
    "    with open(file_path, \"r\") as file:\n",
    "        lines = file.readlines()\n",
    "\n",
    "    for line in lines:\n",
    "        temp = json.loads(line.strip())\n",
    "        written.append(temp[\"BookText\"])\n",
    "        spoken.append(temp[\"ASRTranscript\"].lower())\n",
    "    \n",
    "with open(\"./cleaned_data/ITN/test.raw.source_medium\", \"w\") as source_file, open(\"./cleaned_data/ITN/test.raw.target_medium\", \"w\") as target_file:\n",
    "    for instance in spoken:\n",
    "        source_file.write(instance + \"\\n\")\n",
    "    for instance in written:\n",
    "        target_file.write(instance + \"\\n\")"
   ]
  },
  {
   "cell_type": "code",
   "execution_count": 18,
   "metadata": {},
   "outputs": [
    {
     "data": {
      "text/plain": [
       "1216029"
      ]
     },
     "execution_count": 18,
     "metadata": {},
     "output_type": "execute_result"
    }
   ],
   "source": [
    "len(written)"
   ]
  },
  {
   "cell_type": "code",
   "execution_count": 1,
   "metadata": {},
   "outputs": [],
   "source": [
    "from unidecode import unidecode"
   ]
  },
  {
   "cell_type": "code",
   "execution_count": 3,
   "metadata": {},
   "outputs": [
    {
     "data": {
      "text/plain": [
       "'SS'"
      ]
     },
     "execution_count": 3,
     "metadata": {},
     "output_type": "execute_result"
    }
   ],
   "source": [
    "unidecode(\"§\")"
   ]
  },
  {
   "cell_type": "code",
   "execution_count": null,
   "metadata": {},
   "outputs": [],
   "source": []
  }
 ],
 "metadata": {
  "kernelspec": {
   "display_name": "base",
   "language": "python",
   "name": "python3"
  },
  "language_info": {
   "codemirror_mode": {
    "name": "ipython",
    "version": 3
   },
   "file_extension": ".py",
   "mimetype": "text/x-python",
   "name": "python",
   "nbconvert_exporter": "python",
   "pygments_lexer": "ipython3",
   "version": "3.9.13"
  }
 },
 "nbformat": 4,
 "nbformat_minor": 2
}
