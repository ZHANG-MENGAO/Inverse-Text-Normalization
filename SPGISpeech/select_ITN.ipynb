{
 "cells": [
  {
   "cell_type": "code",
   "execution_count": 2,
   "metadata": {},
   "outputs": [],
   "source": [
    "import re"
   ]
  },
  {
   "cell_type": "code",
   "execution_count": 1,
   "metadata": {},
   "outputs": [],
   "source": [
    "files = [\"./csv/train.csv\", \"./csv/val.csv\"]"
   ]
  },
  {
   "cell_type": "code",
   "execution_count": 5,
   "metadata": {},
   "outputs": [],
   "source": [
    "def contains_roman_numerals(text):\n",
    "    # Regular expression to match Roman numerals followed by optional \"th\", \"st\", or \"nd\"\n",
    "    pattern = r\"\\bM{0,3}(?:CM|CD|D?C{0,3})(?:XC|XL|L?X{0,3})(?:IX|IV|V?I{0,3})(?:th|st|nd)?\\b\"\n",
    "    \n",
    "    # Search for Roman numerals in the text\n",
    "    matches = re.findall(pattern, text)\n",
    "    matches = [match for match in matches if match]\n",
    "\n",
    "    for match in matches:\n",
    "        if match != \"I\" and match!=\"th\" and match!=\"st\" and match!=\"nd\":\n",
    "            # print(match)\n",
    "            return True\n",
    "        \n",
    "    return False\n",
    "\n",
    "def contains_cap_letters(text):\n",
    "    # Regular expression to match fully capitalized words separated by periods or periods with space\n",
    "    pattern = r\"\\b[A-Z]+(?:\\.(?:\\s)?[A-Z]+)*\\b\"\n",
    "    \n",
    "    # Search for fully capitalized words in the text\n",
    "    matches = re.findall(pattern, text)\n",
    "    for match in matches:\n",
    "        if len(match)>1:\n",
    "            # print(match)\n",
    "            # print(text)\n",
    "            return True\n",
    "    \n",
    "    return False"
   ]
  },
  {
   "cell_type": "code",
   "execution_count": 6,
   "metadata": {},
   "outputs": [],
   "source": [
    "# Select instances that likely contain ITN instances\n",
    "for file in files:\n",
    "    out_file = file.replace(\".csv\", \"_ITN.csv\")\n",
    "    audio_files = []\n",
    "    with open(file, \"r\") as f:\n",
    "        for idx, line in enumerate(f):\n",
    "            components = line.strip().split(\"|\")\n",
    "            transcript = components[2]\n",
    "            audio_file = components[0]\n",
    "            if any(char.isdigit() for char in transcript):\n",
    "                audio_files.append(audio_file)\n",
    "            elif contains_roman_numerals(transcript):\n",
    "                audio_files.append(audio_file)\n",
    "            elif contains_cap_letters(transcript):\n",
    "                audio_files.append(audio_file)\n",
    "    with open(out_file, \"w\") as f:\n",
    "        for audio in audio_files:\n",
    "            f.write(audio+\"\\n\")"
   ]
  }
 ],
 "metadata": {
  "kernelspec": {
   "display_name": "Python 3",
   "language": "python",
   "name": "python3"
  },
  "language_info": {
   "codemirror_mode": {
    "name": "ipython",
    "version": 3
   },
   "file_extension": ".py",
   "mimetype": "text/x-python",
   "name": "python",
   "nbconvert_exporter": "python",
   "pygments_lexer": "ipython3",
   "version": "3.9.undefined"
  }
 },
 "nbformat": 4,
 "nbformat_minor": 2
}
