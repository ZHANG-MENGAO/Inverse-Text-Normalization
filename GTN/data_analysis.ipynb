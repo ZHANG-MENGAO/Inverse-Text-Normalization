{
 "cells": [
  {
   "cell_type": "code",
   "execution_count": 2,
   "metadata": {},
   "outputs": [],
   "source": [
    "from tqdm import tqdm"
   ]
  },
  {
   "cell_type": "code",
   "execution_count": 3,
   "metadata": {},
   "outputs": [],
   "source": [
    "with open(\"final_train.tsv\", \"r\") as file:\n",
    "    lines = file.readlines()"
   ]
  },
  {
   "cell_type": "code",
   "execution_count": 10,
   "metadata": {},
   "outputs": [],
   "source": [
    "semiotic_classes = set()\n",
    "counter = {}\n",
    "examples = {}\n",
    "contained_classes = set()\n",
    "spoken_sen_list = []\n",
    "written_sen_list = []"
   ]
  },
  {
   "cell_type": "code",
   "execution_count": 11,
   "metadata": {},
   "outputs": [
    {
     "name": "stderr",
     "output_type": "stream",
     "text": [
      "100%|██████████| 13207970/13207970 [00:07<00:00, 1860351.14it/s]"
     ]
    },
    {
     "name": "stdout",
     "output_type": "stream",
     "text": [
      "0\n"
     ]
    },
    {
     "name": "stderr",
     "output_type": "stream",
     "text": [
      "\n"
     ]
    }
   ],
   "source": [
    "skip = False\n",
    "skipped = 0\n",
    "for line in tqdm(lines):\n",
    "    sentence_spoken = []\n",
    "    sentence_written = []\n",
    "    fields = line.strip().split(\"\\t\")\n",
    "\n",
    "    if fields[0] == \"<eos>\":\n",
    "        sentence_spoken = \" \".join(sentence_spoken)\n",
    "        sentence_written = \" \".join(sentence_written)\n",
    "        if not skip and len(sentence_written) < 1024 and len(sentence_spoken) < 1024:\n",
    "            spoken_sen_list.append(sentence_spoken)\n",
    "            written_sen_list.append(sentence_written)\n",
    "            for cls in contained_classes:\n",
    "                counter[cls] = counter.get(cls, 0) + 1\n",
    "        else:\n",
    "            skipped += 1\n",
    "        sentence_spoken = []\n",
    "        sentence_written = []\n",
    "        contained_classes = set()\n",
    "\n",
    "    elif fields[0] == \"PLAIN\":\n",
    "        sentence_written.append(fields[1])\n",
    "        sentence_spoken.append(fields[1].casefold())\n",
    "\n",
    "    else:\n",
    "        if fields[0] not in examples:\n",
    "            examples[fields[0]] = []\n",
    "        examples[fields[0]].append((fields[1], fields[2]))\n",
    "            \n",
    "        contained_classes.add(fields[0])\n",
    "        sentence_written.append(fields[1])\n",
    "        sentence_spoken.append(fields[2])\n",
    "print(skipped)"
   ]
  },
  {
   "cell_type": "code",
   "execution_count": 12,
   "metadata": {},
   "outputs": [
    {
     "data": {
      "text/plain": [
       "1162310"
      ]
     },
     "execution_count": 12,
     "metadata": {},
     "output_type": "execute_result"
    }
   ],
   "source": [
    "len(spoken_sen_list)"
   ]
  },
  {
   "cell_type": "code",
   "execution_count": 13,
   "metadata": {},
   "outputs": [
    {
     "data": {
      "text/plain": [
       "{'DATE': 409440,\n",
       " 'LETTERS': 185895,\n",
       " 'CARDINAL': 165055,\n",
       " 'VERBATIM': 31143,\n",
       " 'DECIMAL': 22370,\n",
       " 'MEASURE': 103301,\n",
       " 'MONEY': 161439,\n",
       " 'ORDINAL': 14950,\n",
       " 'TIME': 18405,\n",
       " 'ELECTRONIC': 6712,\n",
       " 'DIGIT': 8836,\n",
       " 'FRACTION': 7295,\n",
       " 'TELEPHONE': 1812,\n",
       " 'ADDRESS': 951}"
      ]
     },
     "execution_count": 13,
     "metadata": {},
     "output_type": "execute_result"
    }
   ],
   "source": [
    "counter"
   ]
  },
  {
   "cell_type": "code",
   "execution_count": 1,
   "metadata": {},
   "outputs": [
    {
     "name": "stdout",
     "output_type": "stream",
     "text": [
      "{'LETTERS', 'MONEY', 'FRACTION', 'DATE', 'DECIMAL', 'CARDINAL', 'ORDINAL', 'TIME', 'TELEPHONE', 'ADDRESS', '<eos>', 'PUNCT', 'MEASURE', 'DIGIT', 'ELECTRONIC', 'VERBATIM', 'PLAIN'}\n"
     ]
    }
   ],
   "source": [
    "with open(\"./test/output-00099-of-00100\", \"r\") as file:\n",
    "    lines = file.readlines()\n",
    "    lines = [x.strip().split(\"\\t\")[0] for x in lines]\n",
    "    classes = set(lines)\n",
    "    print(classes)"
   ]
  }
 ],
 "metadata": {
  "kernelspec": {
   "display_name": "denor",
   "language": "python",
   "name": "python3"
  },
  "language_info": {
   "codemirror_mode": {
    "name": "ipython",
    "version": 3
   },
   "file_extension": ".py",
   "mimetype": "text/x-python",
   "name": "python",
   "nbconvert_exporter": "python",
   "pygments_lexer": "ipython3",
   "version": "3.9.18"
  }
 },
 "nbformat": 4,
 "nbformat_minor": 2
}
